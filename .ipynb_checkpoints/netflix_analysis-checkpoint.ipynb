{
 "cells": [
  {
   "cell_type": "raw",
   "id": "ec946b3a-43d9-40fb-a511-03075866935a",
   "metadata": {},
   "source": [
    "This project explores the Netflix Movies & TV Shows dataset using NumPy and Pandas. The goal is to analyze content distribution, trends, and patterns. Later, the project will be expanded with data visualization libraries like Matplotlib and Seaborn."
   ]
  },
  {
   "cell_type": "raw",
   "id": "5cccc4b1-43b1-4397-8e30-c6de49ba89a4",
   "metadata": {},
   "source": [
    "import pandas as pd"
   ]
  },
  {
   "cell_type": "code",
   "execution_count": 5,
   "id": "a4a7e190-7a5d-46ab-aff5-4e1c80b06167",
   "metadata": {},
   "outputs": [],
   "source": [
    "df = pd. read_csv(\"netflix_titles.csv\")"
   ]
  },
  {
   "cell_type": "code",
   "execution_count": 8,
   "id": "03405574-ea78-4bfa-a727-5313894dc6aa",
   "metadata": {},
   "outputs": [
    {
     "name": "stdout",
     "output_type": "stream",
     "text": [
      "(8807, 12)\n"
     ]
    }
   ],
   "source": [
    "print(df.shape)"
   ]
  },
  {
   "cell_type": "code",
   "execution_count": null,
   "id": "fbd5cce8-cf6a-4eaa-97c1-8d1510ae3b4c",
   "metadata": {},
   "outputs": [],
   "source": []
  }
 ],
 "metadata": {
  "kernelspec": {
   "display_name": "Python [conda env:base] *",
   "language": "python",
   "name": "conda-base-py"
  },
  "language_info": {
   "codemirror_mode": {
    "name": "ipython",
    "version": 3
   },
   "file_extension": ".py",
   "mimetype": "text/x-python",
   "name": "python",
   "nbconvert_exporter": "python",
   "pygments_lexer": "ipython3",
   "version": "3.13.5"
  }
 },
 "nbformat": 4,
 "nbformat_minor": 5
}
